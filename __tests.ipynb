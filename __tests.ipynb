{
 "cells": [
  {
   "cell_type": "code",
   "execution_count": 36,
   "id": "5d06ae77",
   "metadata": {},
   "outputs": [],
   "source": [
    "from PIL import Image, ImageDraw\n",
    "import json\n",
    "\n",
    "\n",
    "json_s18 = open('samples/18.json')\n",
    "data_18 = json.load(json_s18)\n",
    "\n",
    "img = Image.open(\"samples/18.jpg\")\n",
    "\n",
    "draw = ImageDraw.Draw(img)\n",
    "\n",
    "for item in data_18[\"ocr\"]:\n",
    "    text = item['text']\n",
    "    x1 = item['points'][0][0]\n",
    "    y1 = item['points'][0][1]\n",
    "    x2 = item['points'][1][0]\n",
    "    y2 = item['points'][2][1]\n",
    "    \n",
    "    w = x2-x1\n",
    "    h = y2-y1\n",
    "    \n",
    "    #w, h  = item['points']\n",
    "    draw.rectangle([x1,y1,x2,y2], outline='green')\n",
    "    draw.text([x1, y1-10], text)\n",
    "    \n",
    "img.show()\n",
    "img.save('result_18.jpg')\n"
   ]
  },
  {
   "cell_type": "code",
   "execution_count": null,
   "id": "942a7eec",
   "metadata": {},
   "outputs": [],
   "source": []
  },
  {
   "cell_type": "code",
   "execution_count": null,
   "id": "20d1a5fe",
   "metadata": {},
   "outputs": [],
   "source": []
  }
 ],
 "metadata": {
  "kernelspec": {
   "display_name": "Python 3",
   "language": "python",
   "name": "python3"
  },
  "language_info": {
   "codemirror_mode": {
    "name": "ipython",
    "version": 3
   },
   "file_extension": ".py",
   "mimetype": "text/x-python",
   "name": "python",
   "nbconvert_exporter": "python",
   "pygments_lexer": "ipython3",
   "version": "3.8.8"
  }
 },
 "nbformat": 4,
 "nbformat_minor": 5
}
