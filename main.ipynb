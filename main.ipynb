{
 "cells": [
  {
   "cell_type": "markdown",
   "id": "5f7eab5f",
   "metadata": {},
   "source": [
    "# Technical challenge"
   ]
  },
  {
   "cell_type": "code",
   "execution_count": 177,
   "id": "11993547",
   "metadata": {},
   "outputs": [],
   "source": [
    "\n",
    "from PIL import Image, ImageDraw\n",
    "import json\n",
    "import matplotlib.colors as mcolors\n",
    "\n",
    "\n",
    "json_s18 = open('samples/menu2.json')\n",
    "data_18 = json.load(json_s18)\n",
    "\n",
    "img = Image.open(\"samples/menu2.jpg\")\n",
    "\n",
    "draw = ImageDraw.Draw(img)\n",
    "\n",
    "for item in data_18[\"ocr\"]:\n",
    "    text = item['text']\n",
    "    x1 = item['points'][0][0]\n",
    "    y1 = item['points'][0][1]\n",
    "    x2 = item['points'][1][0]\n",
    "    y2 = item['points'][2][1]\n",
    "    \n",
    "    w = x2-x1\n",
    "    h = y2-y1\n",
    "    \n",
    "    colors = list(mcolors.CSS4_COLORS.keys())\n",
    "    middle_line = y1+y2 / 2\n",
    "    line_tollerance = 30\n",
    "    color_index = int((img.height-middle_line)/line_tollerance)\n",
    "    \n",
    "    draw.rectangle([x1,y1,x2,y2], outline=colors[color_index])\n",
    "    draw.text([x1, y1-10], text, fill=colors[color_index])\n",
    "img.show()\n",
    "img.save('result_18.jpg')\n",
    "\n",
    "\n",
    "json_s18.close()\n",
    "img.close()"
   ]
  },
  {
   "cell_type": "code",
   "execution_count": null,
   "id": "3459e91c",
   "metadata": {},
   "outputs": [],
   "source": []
  },
  {
   "cell_type": "code",
   "execution_count": null,
   "id": "37fbe5c8",
   "metadata": {},
   "outputs": [],
   "source": [
    "\n"
   ]
  },
  {
   "cell_type": "code",
   "execution_count": null,
   "id": "01a7efd2",
   "metadata": {},
   "outputs": [],
   "source": []
  },
  {
   "cell_type": "code",
   "execution_count": null,
   "id": "14a6b4a8",
   "metadata": {},
   "outputs": [],
   "source": []
  }
 ],
 "metadata": {
  "kernelspec": {
   "display_name": "Python 3",
   "language": "python",
   "name": "python3"
  },
  "language_info": {
   "codemirror_mode": {
    "name": "ipython",
    "version": 3
   },
   "file_extension": ".py",
   "mimetype": "text/x-python",
   "name": "python",
   "nbconvert_exporter": "python",
   "pygments_lexer": "ipython3",
   "version": "3.8.8"
  }
 },
 "nbformat": 4,
 "nbformat_minor": 5
}
