{
 "cells": [
  {
   "cell_type": "markdown",
   "id": "5f7eab5f",
   "metadata": {},
   "source": [
    "# Technical challenge"
   ]
  },
  {
   "cell_type": "code",
   "execution_count": 189,
   "id": "11993547",
   "metadata": {},
   "outputs": [],
   "source": [
    "# NImport needed modules\n",
    "from PIL import Image, ImageDraw\n",
    "import json\n",
    "import matplotlib.colors as mcolors\n",
    "\n",
    "# Loading image and coresponding .json file\n",
    "img = Image.open(\"samples/18.jpg\")\n",
    "json_data = json.load(open('samples/18.json'))\n",
    "\n",
    "\n",
    "# Create a new image to be used as a new image output\n",
    "draw = ImageDraw.Draw(img)\n",
    "\n",
    "# Browsing dictionary items for image tagging information\n",
    "for item in json_data[\"ocr\"]: \n",
    "    text = item['text']\n",
    "    # Getting coordinates of upper left corner and lower right corner of rectangle\n",
    "    \n",
    "    x1 = item['points'][0][0]\n",
    "    y1 = item['points'][0][1]\n",
    "    \n",
    "    x2 = item['points'][1][0]\n",
    "    y2 = item['points'][2][1]\n",
    "    \n",
    "    # Weight and Height of each rectangle wich will highlight the words\n",
    "    w = x2-x1 \n",
    "    h = y2-y1\n",
    "    \n",
    "    # Getting the color pallet list of CSS4\n",
    "    colors = list(mcolors.CSS4_COLORS.keys()) \n",
    "    \n",
    "    # Create a color range for each line with posibility of adjustment (line_tollerance) for different images\n",
    "    middle_line = (y1+y2) / 2\n",
    "    line_tollerance = 15\n",
    "    color_index = int((img.height-middle_line)/line_tollerance)\n",
    "    \n",
    "    # Tagging the image with rectangles and writing text and using color range\n",
    "    draw.rectangle([x1,y1,x2,y2], outline=colors[color_index])\n",
    "    draw.text([x1, y1-10], text, fill=colors[color_index])\n",
    "img.show()\n",
    "img.save('output.jpg')\n",
    "\n",
    "\n",
    "img.close()"
   ]
  },
  {
   "cell_type": "code",
   "execution_count": null,
   "id": "3459e91c",
   "metadata": {},
   "outputs": [],
   "source": []
  },
  {
   "cell_type": "code",
   "execution_count": null,
   "id": "37fbe5c8",
   "metadata": {},
   "outputs": [],
   "source": [
    "\n"
   ]
  },
  {
   "cell_type": "code",
   "execution_count": null,
   "id": "01a7efd2",
   "metadata": {},
   "outputs": [],
   "source": []
  },
  {
   "cell_type": "code",
   "execution_count": null,
   "id": "14a6b4a8",
   "metadata": {},
   "outputs": [],
   "source": []
  }
 ],
 "metadata": {
  "kernelspec": {
   "display_name": "Python 3",
   "language": "python",
   "name": "python3"
  },
  "language_info": {
   "codemirror_mode": {
    "name": "ipython",
    "version": 3
   },
   "file_extension": ".py",
   "mimetype": "text/x-python",
   "name": "python",
   "nbconvert_exporter": "python",
   "pygments_lexer": "ipython3",
   "version": "3.8.8"
  }
 },
 "nbformat": 4,
 "nbformat_minor": 5
}
