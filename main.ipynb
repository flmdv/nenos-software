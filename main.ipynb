{
 "cells": [
  {
   "cell_type": "markdown",
   "id": "5f7eab5f",
   "metadata": {},
   "source": [
    "# Technical challenge"
   ]
  },
  {
   "cell_type": "markdown",
   "id": "3a2a1db9",
   "metadata": {},
   "source": [
    "### Mode 1 - Tagging image in order given by .json data"
   ]
  },
  {
   "cell_type": "code",
   "execution_count": 628,
   "id": "11993547",
   "metadata": {},
   "outputs": [],
   "source": [
    "# Import needed modules\n",
    "from PIL import Image, ImageDraw\n",
    "import json\n",
    "import matplotlib.colors as mcolors\n",
    "\n",
    "# Loading image and coresponding .json file\n",
    "img = Image.open(\"samples/18.jpg\")\n",
    "json_data = json.load(open('samples/18.json'))\n",
    "\n",
    "\n",
    "# Create a new image to be used as a new image output\n",
    "draw = ImageDraw.Draw(img)\n",
    "\n",
    "# Browsing dictionary items for image tagging information\n",
    "for item in json_data[\"ocr\"]: \n",
    "    text = item['text']\n",
    "    \n",
    "    # Getting coordinates of upper left corner and lower right corner of rectangle\n",
    "    x1 = item['points'][0][0]\n",
    "    y1 = item['points'][0][1]\n",
    "    \n",
    "    x2 = item['points'][1][0]\n",
    "    y2 = item['points'][2][1]\n",
    "    \n",
    "    # Getting the color pallet list of CSS4\n",
    "    colors = list(mcolors.CSS4_COLORS.keys()) \n",
    "    \n",
    "    # Create a color range for each line with posibility of adjustment (line_tollerance) for different images\n",
    "    middle_line = (y1+y2) / 2\n",
    "    line_tollerance = 15\n",
    "    color_index = int((img.height-middle_line)/line_tollerance)\n",
    "    \n",
    "    # Tagging the image with rectangles and writing text in a distinct color range\n",
    "    draw.rectangle([x1,y1,x2,y2],width=3,outline=colors[color_index])\n",
    "    draw.text([x1, y1-10], text, fill=colors[color_index])\n",
    "img.show()\n",
    "img.save('output.jpg')\n",
    "\n",
    "\n",
    "img.close()"
   ]
  },
  {
   "cell_type": "code",
   "execution_count": null,
   "id": "3459e91c",
   "metadata": {},
   "outputs": [],
   "source": []
  },
  {
   "cell_type": "code",
   "execution_count": null,
   "id": "bdda0016",
   "metadata": {},
   "outputs": [],
   "source": []
  },
  {
   "cell_type": "markdown",
   "id": "ecec5fa0",
   "metadata": {},
   "source": [
    "### Mode 2 - Tagging after data sorting"
   ]
  },
  {
   "cell_type": "code",
   "execution_count": null,
   "id": "692071ec",
   "metadata": {},
   "outputs": [],
   "source": []
  },
  {
   "cell_type": "code",
   "execution_count": 631,
   "id": "37fbe5c8",
   "metadata": {},
   "outputs": [],
   "source": [
    "# Import needed modules\n",
    "from PIL import Image, ImageDraw\n",
    "import json\n",
    "import matplotlib.colors as mcolors\n",
    "import pandas as pd\n",
    "from pandas.io.json import json_normalize\n",
    "\n",
    "path_image = \"samples/40.jpg\"\n",
    "path_json = \"samples/40.json\"\n",
    "\n",
    "with open(path_json,'r') as f:\n",
    "    data = json.loads(f.read())\n",
    "\n",
    "# Create Data Frame with content of .json file\n",
    "df = pd.json_normalize(data, record_path =['ocr'])\n",
    "\n",
    "\n",
    "data_x1 = []\n",
    "data_y1 = []\n",
    "data_x2 = []\n",
    "data_y2 = []\n",
    "\n",
    "# Extract coordinates of rectangle points for each word\n",
    "for data in df['points']:\n",
    "    data_x1.append(data[0][0])\n",
    "    data_y1.append(data[0][1])\n",
    "    data_x2.append(data[1][0])\n",
    "    data_y2.append(data[2][1])\n",
    "        \n",
    "df['x1'] = data_x1\n",
    "df['y1'] = data_y1\n",
    "df['x2'] = data_x2\n",
    "df['y2'] = data_y2\n",
    "\n",
    "#Adding coordinates to Data Frame\n",
    "df = df[['text','x1','y1','x2','y2']]\n",
    "\n",
    "df=df.sort_values(['y1','x1'])\n",
    "\n",
    "# Loading image and coresponding .json file\n",
    "img = Image.open(path_image)\n",
    "\n",
    "# Create a new image to be used as a new image output\n",
    "draw = ImageDraw.Draw(img)\n",
    "\n",
    "for item in df.values:\n",
    "    text = item[0]\n",
    "    \n",
    "    # Getting coordinates of upper left corner and lower right corner of rectangle\n",
    "    x1 = item[1]\n",
    "    y1 = item[2]\n",
    "    \n",
    "    x2 = item[3]\n",
    "    y2 = item[4]\n",
    "    \n",
    "    # Getting the color pallet list of CSS4\n",
    "    colors = list(mcolors.CSS4_COLORS.keys()) \n",
    "    \n",
    "    # Create a color range for each line with posibility of adjustment (line_tollerance) for different images\n",
    "    middle_line = (y1+y2) / 2\n",
    "    line_tollerance = 30\n",
    "    color_index = int((img.height-middle_line)/line_tollerance)\n",
    "    \n",
    "    # Tagging the image with rectangles and writing text in a distinct color range\n",
    "    draw.rectangle([x1,y1,x2,y2], width=3, outline=colors[color_index])\n",
    "    draw.text([x1, y1-10], text, fill=colors[color_index])\n",
    "img.show()\n",
    "img.save('output.jpg')\n",
    "img.close()"
   ]
  },
  {
   "cell_type": "code",
   "execution_count": null,
   "id": "9d7710fa",
   "metadata": {},
   "outputs": [],
   "source": []
  },
  {
   "cell_type": "code",
   "execution_count": null,
   "id": "9ad584e9",
   "metadata": {},
   "outputs": [],
   "source": []
  },
  {
   "cell_type": "code",
   "execution_count": null,
   "id": "3d9967d5",
   "metadata": {},
   "outputs": [],
   "source": []
  }
 ],
 "metadata": {
  "kernelspec": {
   "display_name": "Python 3",
   "language": "python",
   "name": "python3"
  },
  "language_info": {
   "codemirror_mode": {
    "name": "ipython",
    "version": 3
   },
   "file_extension": ".py",
   "mimetype": "text/x-python",
   "name": "python",
   "nbconvert_exporter": "python",
   "pygments_lexer": "ipython3",
   "version": "3.8.8"
  }
 },
 "nbformat": 4,
 "nbformat_minor": 5
}
