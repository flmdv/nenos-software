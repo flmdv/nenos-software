{
 "cells": [
  {
   "cell_type": "markdown",
   "id": "5f7eab5f",
   "metadata": {},
   "source": [
    "# Technical challenge"
   ]
  },
  {
   "cell_type": "markdown",
   "id": "a7032840",
   "metadata": {},
   "source": [
    "### Mode 1 - Tagging image in order given by .json data"
   ]
  },
  {
   "cell_type": "code",
   "execution_count": 416,
   "id": "11993547",
   "metadata": {},
   "outputs": [],
   "source": [
    "# Import needed modules\n",
    "from PIL import Image, ImageDraw\n",
    "import json\n",
    "import matplotlib.colors as mcolors\n",
    "\n",
    "# Loading image and coresponding .json file\n",
    "img = Image.open(\"samples/18.jpg\")\n",
    "json_data = json.load(open('samples/18.json'))\n",
    "\n",
    "\n",
    "# Create a new image to be used as a new image output\n",
    "draw = ImageDraw.Draw(img)\n",
    "\n",
    "# Browsing dictionary items for image tagging information\n",
    "for item in json_data[\"ocr\"]: \n",
    "    text = item['text']\n",
    "    \n",
    "    # Getting coordinates of upper left corner and lower right corner of rectangle\n",
    "    x1 = item['points'][0][0]\n",
    "    y1 = item['points'][0][1]\n",
    "    \n",
    "    x2 = item['points'][1][0]\n",
    "    y2 = item['points'][2][1]\n",
    "    \n",
    "    # Weight and Height of each rectangle wich will highlight the words\n",
    "    w = x2-x1 \n",
    "    h = y2-y1\n",
    "    \n",
    "    # Getting the color pallet list of CSS4\n",
    "    colors = list(mcolors.CSS4_COLORS.keys()) \n",
    "    \n",
    "    # Create a color range for each line with posibility of adjustment (line_tollerance) for different images\n",
    "    middle_line = (y1+y2) / 2\n",
    "    line_tollerance = 15\n",
    "    color_index = int((img.height-middle_line)/line_tollerance)\n",
    "    \n",
    "    # Tagging the image with rectangles and writing text in a distinct color range\n",
    "    draw.rectangle([x1,y1,x2,y2], outline=colors[color_index])\n",
    "    draw.text([x1, y1-10], text, fill=colors[color_index])\n",
    "img.show()\n",
    "img.save('output.jpg')\n",
    "\n",
    "\n",
    "img.close()"
   ]
  },
  {
   "cell_type": "code",
   "execution_count": null,
   "id": "3459e91c",
   "metadata": {},
   "outputs": [],
   "source": []
  },
  {
   "cell_type": "code",
   "execution_count": null,
   "id": "611fc812",
   "metadata": {},
   "outputs": [],
   "source": []
  },
  {
   "cell_type": "markdown",
   "id": "5fe36495",
   "metadata": {},
   "source": [
    "### Mode 2 - Tagging after data sorting"
   ]
  },
  {
   "cell_type": "code",
   "execution_count": null,
   "id": "ed596f37",
   "metadata": {},
   "outputs": [],
   "source": []
  },
  {
   "cell_type": "code",
   "execution_count": 394,
   "id": "37fbe5c8",
   "metadata": {},
   "outputs": [],
   "source": [
    "import pandas as pd\n",
    "from pandas.io.json import json_normalize"
   ]
  },
  {
   "cell_type": "code",
   "execution_count": 395,
   "id": "01a7efd2",
   "metadata": {},
   "outputs": [],
   "source": [
    "with open('samples/18.json', \"r\") as json_file:\n",
    "    dict_data = json.load(json_file)\n",
    "\n",
    "df = pd.DataFrame(dict_data['ocr'])"
   ]
  },
  {
   "cell_type": "code",
   "execution_count": 397,
   "id": "14a6b4a8",
   "metadata": {},
   "outputs": [],
   "source": [
    "df=df[['points','text']]"
   ]
  },
  {
   "cell_type": "code",
   "execution_count": 403,
   "id": "d28e0a47",
   "metadata": {},
   "outputs": [
    {
     "data": {
      "text/html": [
       "<div>\n",
       "<style scoped>\n",
       "    .dataframe tbody tr th:only-of-type {\n",
       "        vertical-align: middle;\n",
       "    }\n",
       "\n",
       "    .dataframe tbody tr th {\n",
       "        vertical-align: top;\n",
       "    }\n",
       "\n",
       "    .dataframe thead th {\n",
       "        text-align: right;\n",
       "    }\n",
       "</style>\n",
       "<table border=\"1\" class=\"dataframe\">\n",
       "  <thead>\n",
       "    <tr style=\"text-align: right;\">\n",
       "      <th></th>\n",
       "      <th>points</th>\n",
       "      <th>text</th>\n",
       "    </tr>\n",
       "  </thead>\n",
       "  <tbody>\n",
       "    <tr>\n",
       "      <th>40</th>\n",
       "      <td>[[29.25377082824707, 734.2200317382812], [31.8...</td>\n",
       "      <td>LI/SO</td>\n",
       "    </tr>\n",
       "    <tr>\n",
       "      <th>27</th>\n",
       "      <td>[[92.01451873779297, 775.3175659179688], [131....</td>\n",
       "      <td>HSN</td>\n",
       "    </tr>\n",
       "    <tr>\n",
       "      <th>34</th>\n",
       "      <td>[[94.1923599243164, 745.3719482421875], [140.4...</td>\n",
       "      <td>TTRT</td>\n",
       "    </tr>\n",
       "    <tr>\n",
       "      <th>45</th>\n",
       "      <td>[[94.19237518310547, 711.0707397460938], [94.1...</td>\n",
       "      <td>S</td>\n",
       "    </tr>\n",
       "    <tr>\n",
       "      <th>50</th>\n",
       "      <td>[[95.82576751708984, 656.079833984375], [135.0...</td>\n",
       "      <td>HSN</td>\n",
       "    </tr>\n",
       "    <tr>\n",
       "      <th>...</th>\n",
       "      <td>...</td>\n",
       "      <td>...</td>\n",
       "    </tr>\n",
       "    <tr>\n",
       "      <th>97</th>\n",
       "      <td>[[528.4583129882812, 404.20587158203125], [593...</td>\n",
       "      <td>199.00</td>\n",
       "    </tr>\n",
       "    <tr>\n",
       "      <th>74</th>\n",
       "      <td>[[530.8529663085938, 517.2413330078125], [595....</td>\n",
       "      <td>399.00</td>\n",
       "    </tr>\n",
       "    <tr>\n",
       "      <th>51</th>\n",
       "      <td>[[531.1891479492188, 630.3524169921875], [597....</td>\n",
       "      <td>399.00</td>\n",
       "    </tr>\n",
       "    <tr>\n",
       "      <th>29</th>\n",
       "      <td>[[543.304443359375, 747.9132690429688], [600.7...</td>\n",
       "      <td>32.30</td>\n",
       "    </tr>\n",
       "    <tr>\n",
       "      <th>110</th>\n",
       "      <td>[[558.0762329101562, 291.8330078125], [592.377...</td>\n",
       "      <td>AMT</td>\n",
       "    </tr>\n",
       "  </tbody>\n",
       "</table>\n",
       "<p>150 rows × 2 columns</p>\n",
       "</div>"
      ],
      "text/plain": [
       "                                                points    text\n",
       "40   [[29.25377082824707, 734.2200317382812], [31.8...   LI/SO\n",
       "27   [[92.01451873779297, 775.3175659179688], [131....     HSN\n",
       "34   [[94.1923599243164, 745.3719482421875], [140.4...    TTRT\n",
       "45   [[94.19237518310547, 711.0707397460938], [94.1...       S\n",
       "50   [[95.82576751708984, 656.079833984375], [135.0...     HSN\n",
       "..                                                 ...     ...\n",
       "97   [[528.4583129882812, 404.20587158203125], [593...  199.00\n",
       "74   [[530.8529663085938, 517.2413330078125], [595....  399.00\n",
       "51   [[531.1891479492188, 630.3524169921875], [597....  399.00\n",
       "29   [[543.304443359375, 747.9132690429688], [600.7...   32.30\n",
       "110  [[558.0762329101562, 291.8330078125], [592.377...     AMT\n",
       "\n",
       "[150 rows x 2 columns]"
      ]
     },
     "execution_count": 403,
     "metadata": {},
     "output_type": "execute_result"
    }
   ],
   "source": [
    "df = df.sort_values('points')\n",
    "df"
   ]
  },
  {
   "cell_type": "code",
   "execution_count": null,
   "id": "af2da042",
   "metadata": {},
   "outputs": [],
   "source": []
  },
  {
   "cell_type": "code",
   "execution_count": null,
   "id": "197ac0fc",
   "metadata": {},
   "outputs": [],
   "source": []
  },
  {
   "cell_type": "code",
   "execution_count": null,
   "id": "39ae48ca",
   "metadata": {},
   "outputs": [],
   "source": []
  }
 ],
 "metadata": {
  "kernelspec": {
   "display_name": "Python 3",
   "language": "python",
   "name": "python3"
  },
  "language_info": {
   "codemirror_mode": {
    "name": "ipython",
    "version": 3
   },
   "file_extension": ".py",
   "mimetype": "text/x-python",
   "name": "python",
   "nbconvert_exporter": "python",
   "pygments_lexer": "ipython3",
   "version": "3.8.8"
  }
 },
 "nbformat": 4,
 "nbformat_minor": 5
}
